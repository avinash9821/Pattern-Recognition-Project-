{
  "nbformat": 4,
  "nbformat_minor": 0,
  "metadata": {
    "colab": {
      "provenance": []
    },
    "kernelspec": {
      "name": "python3",
      "display_name": "Python 3"
    },
    "language_info": {
      "name": "python"
    }
  },
  "cells": [
    {
      "cell_type": "code",
      "execution_count": 1,
      "metadata": {
        "id": "5FsHU7l5d7qH"
      },
      "outputs": [],
      "source": [
        "import torch\n",
        "import torch.nn as nn\n",
        "import torch.optim as optim\n",
        "from collections import Counter\n",
        "from sklearn.model_selection import train_test_split\n",
        "import numpy as np\n",
        "import matplotlib.pyplot as plt\n",
        "import ast"
      ]
    },
    {
      "cell_type": "code",
      "source": [
        "# Load and preprocess data\n",
        "# Re-running the initial code to set up the environment\n",
        "\n",
        "# Load and preprocess data\n",
        "with open(\"movie_lines.txt\", \"r\", encoding=\"iso-8859-1\") as file:\n",
        "    lines = {}\n",
        "    for line in file:\n",
        "        parts = line.split(\" +++$+++ \")\n",
        "        if len(parts) == 5:\n",
        "            lines[parts[0]] = parts[4].strip()\n",
        "\n",
        "with open(\"movie_conversations.txt\", \"r\", encoding=\"iso-8859-1\") as file:\n",
        "    conversations = []\n",
        "    for line in file:\n",
        "        parts = line.split(\" +++$+++ \")\n",
        "        if len(parts) == 4:\n",
        "            convo = ast.literal_eval(parts[3].strip())\n",
        "            conversations.append(convo)\n",
        "\n",
        "input_texts, target_texts = [], []\n",
        "for convo in conversations:\n",
        "    for i in range(len(convo)-1):\n",
        "        if convo[i] in lines and convo[i+1] in lines:  # Check if keys exist\n",
        "            input_texts.append(lines[convo[i]])\n",
        "            target_texts.append(lines[convo[i+1]])"
      ],
      "metadata": {
        "id": "wx4FryeXd9iZ"
      },
      "execution_count": 2,
      "outputs": []
    },
    {
      "cell_type": "code",
      "source": [
        "# Tokenization, Vocabulary creation, and Integer encoding\n",
        "MAX_VOCAB_SIZE = 5000\n",
        "MAX_SEQ_LENGTH = 20\n",
        "START_TOKEN = \"<start>\"\n",
        "END_TOKEN = \"<end>\"\n",
        "PAD_TOKEN = \"<pad>\"\n",
        "OOV_TOKEN = \"<oov>\"\n",
        "\n",
        "def tokenize_and_filter(inputs, outputs):\n",
        "    tokenized_inputs, tokenized_outputs = [], []\n",
        "    for (input_sentence, output_sentence) in zip(inputs, outputs):\n",
        "        input_tokens = [START_TOKEN] + input_sentence.split() + [END_TOKEN]\n",
        "        output_tokens = [START_TOKEN] + output_sentence.split() + [END_TOKEN]\n",
        "        if len(input_tokens) <= MAX_SEQ_LENGTH and len(output_tokens) <= MAX_SEQ_LENGTH:\n",
        "            tokenized_inputs.append(input_tokens)\n",
        "            tokenized_outputs.append(output_tokens)\n",
        "    return tokenized_inputs, tokenized_outputs\n",
        "\n",
        "input_texts_tokenized, target_texts_tokenized = tokenize_and_filter(input_texts, target_texts)\n",
        "\n",
        "all_tokens = [token for sentence in input_texts_tokenized for token in sentence]\n",
        "all_tokens += [token for sentence in target_texts_tokenized for token in sentence]\n",
        "vocab = [token[0] for token in Counter(all_tokens).most_common(MAX_VOCAB_SIZE)]\n",
        "vocab = [PAD_TOKEN, START_TOKEN, END_TOKEN, OOV_TOKEN] + vocab\n",
        "\n",
        "word2idx = {word: idx for idx, word in enumerate(vocab)}\n",
        "idx2word = {idx: word for word, idx in word2idx.items()}\n",
        "\n",
        "def tokens_to_ints(tokenized_sentences):\n",
        "    int_sequences = []\n",
        "    for sentence in tokenized_sentences:\n",
        "        int_seq = [word2idx.get(token, word2idx[OOV_TOKEN]) for token in sentence]\n",
        "        int_seq += [word2idx[PAD_TOKEN]] * (MAX_SEQ_LENGTH - len(int_seq))\n",
        "        int_sequences.append(int_seq)\n",
        "    return np.array(int_sequences)\n",
        "\n",
        "input_seqs = tokens_to_ints(input_texts_tokenized)\n",
        "target_seqs = tokens_to_ints(target_texts_tokenized)\n",
        "\n",
        "input_train, input_temp, target_train, target_temp = train_test_split(input_seqs, target_seqs, test_size=0.2, random_state=42)\n",
        "input_val, input_test, target_val, target_test = train_test_split(input_temp, target_temp, test_size=0.5, random_state=42)"
      ],
      "metadata": {
        "id": "eKhSZIbfeApY"
      },
      "execution_count": 3,
      "outputs": []
    },
    {
      "cell_type": "code",
      "source": [
        "# Define the Encoder\n",
        "class Encoder(nn.Module):\n",
        "    def __init__(self, vocab_size, embedding_dim, enc_units, batch_sz):\n",
        "        super(Encoder, self).__init__()\n",
        "        self.batch_sz = batch_sz\n",
        "        self.enc_units = enc_units\n",
        "        self.embedding = nn.Embedding(vocab_size, embedding_dim)\n",
        "        self.lstm = nn.LSTM(embedding_dim, enc_units)\n",
        "\n",
        "    def forward(self, x):\n",
        "        x = self.embedding(x)\n",
        "        output, state = self.lstm(x)\n",
        "        return output, state"
      ],
      "metadata": {
        "id": "EkxBJn_EeFzl"
      },
      "execution_count": 4,
      "outputs": []
    },
    {
      "cell_type": "code",
      "source": [
        "\n",
        "# Define the Decoder\n",
        "class Decoder(nn.Module):\n",
        "    def __init__(self, vocab_size, embedding_dim, dec_units, batch_sz):\n",
        "        super(Decoder, self).__init__()\n",
        "        self.batch_sz = batch_sz\n",
        "        self.dec_units = dec_units\n",
        "        self.embedding = nn.Embedding(vocab_size, embedding_dim)\n",
        "        self.lstm = nn.LSTM(embedding_dim, dec_units)\n",
        "        self.fc = nn.Linear(dec_units, vocab_size)\n",
        "\n",
        "    def forward(self, x, enc_state):\n",
        "        x = self.embedding(x)\n",
        "        output, state = self.lstm(x, enc_state)\n",
        "        output = self.fc(output)\n",
        "        return output, state"
      ],
      "metadata": {
        "id": "Lr62lzQbeIDl"
      },
      "execution_count": 5,
      "outputs": []
    },
    {
      "cell_type": "code",
      "source": [
        "# Define the Seq2Seq Model\n",
        "class Seq2Seq(nn.Module):\n",
        "    def __init__(self, encoder, decoder):\n",
        "        super(Seq2Seq, self).__init__()\n",
        "        self.encoder = encoder\n",
        "        self.decoder = decoder\n",
        "\n",
        "    def forward(self, source, target):\n",
        "        _, enc_state = self.encoder(source)\n",
        "        dec_output, _ = self.decoder(target, enc_state)\n",
        "        return dec_output\n",
        "\n",
        "embedding_dim = 256\n",
        "units = 512\n",
        "BATCH_SIZE = 64\n",
        "vocab_size = len(vocab)\n",
        "\n",
        "encoder = Encoder(vocab_size, embedding_dim, units, BATCH_SIZE)\n",
        "decoder = Decoder(vocab_size, embedding_dim, units, BATCH_SIZE)\n",
        "seq2seq = Seq2Seq(encoder, decoder)\n",
        "\n",
        "criterion = nn.CrossEntropyLoss()\n",
        "optimizer = optim.SGD(seq2seq.parameters(), lr=0.001)\n",
        "\n",
        "def validate(seq2seq, input_val, target_val):\n",
        "    seq2seq.eval()\n",
        "    total_loss = 0\n",
        "    with torch.no_grad():\n",
        "        for i in range(0, len(input_val), BATCH_SIZE):\n",
        "            input_batch = torch.tensor(input_val[i:i+BATCH_SIZE])\n",
        "            target_batch = torch.tensor(target_val[i:i+BATCH_SIZE]).long()\n",
        "            output = seq2seq(input_batch, target_batch)\n",
        "            loss = criterion(output.view(-1, vocab_size), target_batch.view(-1))\n",
        "            total_loss += loss.item()\n",
        "    return total_loss / len(input_val)"
      ],
      "metadata": {
        "id": "uNtXNwKdeKRR"
      },
      "execution_count": 6,
      "outputs": []
    },
    {
      "cell_type": "code",
      "source": [
        "num_epochs = 4\n",
        "train_losses = []\n",
        "val_losses = []\n",
        "\n",
        "for epoch in range(num_epochs):\n",
        "    total_loss = 0\n",
        "    seq2seq.train()\n",
        "    for i in range(0, len(input_train), BATCH_SIZE):\n",
        "        input_batch = torch.tensor(input_train[i:i+BATCH_SIZE])\n",
        "        target_batch = torch.tensor(target_train[i:i+BATCH_SIZE]).long()\n",
        "        optimizer.zero_grad()\n",
        "        output = seq2seq(input_batch, target_batch)\n",
        "        loss = criterion(output.view(-1, vocab_size), target_batch.view(-1))\n",
        "        loss.backward()\n",
        "        optimizer.step()\n",
        "        total_loss += loss.item()\n",
        "    train_loss = total_loss / len(input_train)\n",
        "    train_losses.append(train_loss)\n",
        "    val_loss = validate(seq2seq, input_val, target_val)\n",
        "    val_losses.append(val_loss)\n",
        "    print(f\"Epoch {epoch+1}/{num_epochs}, Training Loss: {train_loss:.4f}, Validation Loss: {val_loss:.4f}\")"
      ],
      "metadata": {
        "id": "UKVOLU9neKan",
        "colab": {
          "base_uri": "https://localhost:8080/"
        },
        "outputId": "37f68638-8fa9-4a5d-8ed3-ef508ebb08c0"
      },
      "execution_count": 7,
      "outputs": [
        {
          "output_type": "stream",
          "name": "stdout",
          "text": [
            "Epoch 1/4, Training Loss: 0.0636, Validation Loss: 0.0527\n",
            "Epoch 2/4, Training Loss: 0.0481, Validation Loss: 0.0444\n",
            "Epoch 3/4, Training Loss: 0.0416, Validation Loss: 0.0400\n",
            "Epoch 4/4, Training Loss: 0.0390, Validation Loss: 0.0385\n"
          ]
        }
      ]
    },
    {
      "cell_type": "code",
      "source": [
        "plt.plot(train_losses, label='Training Loss')\n",
        "plt.plot(val_losses, label='Validation Loss')\n",
        "plt.xlabel('Epochs')\n",
        "plt.ylabel('Loss')\n",
        "plt.title('Training and Validation Losses')\n",
        "plt.legend()\n",
        "plt.show()"
      ],
      "metadata": {
        "id": "tMBMhctQeRvp",
        "colab": {
          "base_uri": "https://localhost:8080/",
          "height": 472
        },
        "outputId": "d9f60525-33ca-4cf1-ba4b-b8be718e50b0"
      },
      "execution_count": 8,
      "outputs": [
        {
          "output_type": "display_data",
          "data": {
            "text/plain": [
              "<Figure size 640x480 with 1 Axes>"
            ],
            "image/png": "[encoded data removed]"
          },
          "metadata": {}
        }
      ]
    },
    {
      "cell_type": "code",
      "source": [
        "# Save the model\n",
        "torch.save(seq2seq.state_dict(), 'chatbot_model.pth')"
      ],
      "metadata": {
        "id": "lz-O1U9weTx2"
      },
      "execution_count": 9,
      "outputs": []
    },
    {
      "cell_type": "code",
      "source": [
        "# Load the model\n",
        "seq2seq.load_state_dict(torch.load('chatbot_model.pth'))\n",
        "seq2seq.eval()"
      ],
      "metadata": {
        "id": "A5e8WIlNeXG4",
        "colab": {
          "base_uri": "https://localhost:8080/"
        },
        "outputId": "6c3bb288-8402-4d57-ddd3-79affbd93836"
      },
      "execution_count": 10,
      "outputs": [
        {
          "output_type": "execute_result",
          "data": {
            "text/plain": [
              "Seq2Seq(\n",
              "  (encoder): Encoder(\n",
              "    (embedding): Embedding(5004, 256)\n",
              "    (lstm): LSTM(256, 512)\n",
              "  )\n",
              "  (decoder): Decoder(\n",
              "    (embedding): Embedding(5004, 256)\n",
              "    (lstm): LSTM(256, 512)\n",
              "    (fc): Linear(in_features=512, out_features=5004, bias=True)\n",
              "  )\n",
              ")"
            ]
          },
          "metadata": {},
          "execution_count": 10
        }
      ]
    },
    {
      "cell_type": "code",
      "source": [
        "def chatbot_response(seq2seq, user_input):\n",
        "\n",
        "    tokenized_input = [START_TOKEN] + user_input.split() + [END_TOKEN]\n",
        "    input_seq = [word2idx.get(token, word2idx[OOV_TOKEN]) for token in tokenized_input]\n",
        "    input_seq += [word2idx[PAD_TOKEN]] * (MAX_SEQ_LENGTH - len(input_seq))\n",
        "    input_seq = torch.tensor(input_seq).long().unsqueeze(0)\n",
        "    enc_output, enc_state = seq2seq.encoder(input_seq)\n",
        "    dec_input = torch.tensor([[word2idx[START_TOKEN]]])\n",
        "    dec_state = enc_state\n",
        "    response = []\n",
        "    for t in range(MAX_SEQ_LENGTH):\n",
        "        dec_output, dec_state = seq2seq.decoder(dec_input, enc_output, dec_state)\n",
        "        top_token = dec_output.argmax(2).item()\n",
        "        if top_token == word2idx[END_TOKEN]:\n",
        "            break\n",
        "        response.append(idx2word[top_token])\n",
        "        dec_input = torch.tensor([[top_token]])\n",
        "    return ' '.join(response)\n",
        "while True:\n",
        "\n",
        "    user_input = input(\"You: \")\n",
        "    if user_input.lower() in [\"exit\", \"quit\", \"bye\"]:\n",
        "        print(\"Chatbot: Goodbye!\")\n",
        "        break\n",
        "    response = chatbot_response(seq2seq, user_input)\n",
        "    print(\"Chatbot:\", response)\n",
        "\n",
        "\n"
      ],
      "metadata": {
        "id": "EwRZ9XB9eY-Z",
        "colab": {
          "base_uri": "https://localhost:8080/"
        },
        "outputId": "b928cc16-d5d6-4cd8-b203-8da9fbd2f1df"
      },
      "execution_count": 19,
      "outputs": [
        {
          "output_type": "stream",
          "name": "stdout",
          "text": [
            "You: exit\n",
            "Chatbot: Goodbye!\n"
          ]
        }
      ]
    }
  ]
}